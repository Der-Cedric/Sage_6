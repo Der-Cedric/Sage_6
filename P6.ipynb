{
 "cells": [
  {
   "cell_type": "markdown",
   "metadata": {},
   "source": [
    "# Logistische Gleichungen\n",
    "\n",
    "\n"
   ]
  },
  {
   "cell_type": "code",
   "execution_count": null,
   "metadata": {},
   "outputs": [],
   "source": []
  },
  {
   "cell_type": "markdown",
   "metadata": {},
   "source": [
    "# Feigenbaum Diagramm\n",
    "\n",
    "\n"
   ]
  },
  {
   "cell_type": "code",
   "execution_count": null,
   "metadata": {},
   "outputs": [],
   "source": []
  },
  {
   "cell_type": "markdown",
   "metadata": {},
   "source": [
    "# Sensitivität\n",
    "\n",
    "\n"
   ]
  },
  {
   "cell_type": "code",
   "execution_count": null,
   "metadata": {},
   "outputs": [],
   "source": []
  },
  {
   "cell_type": "markdown",
   "metadata": {},
   "source": [
    "# Julia-Mengen\n",
    "\n",
    "Klassische Formel: <br />\n",
    "    Zn+1 = Zn^2 + c <br />\n",
    "c ist eine komplexe konstante. <br />\n",
    "z ist eine Zahl auf der komplexen Ebene. <br />\n",
    "n ist die Genauigkeit.\n",
    "\n",
    "Zu jedem Punkt einer Mandelbrotmenge gibt es eine zugehoerige Julia-Menge, wobei dieser eben die Konstante C ist."
   ]
  },
  {
   "cell_type": "code",
   "execution_count": null,
   "metadata": {},
   "outputs": [],
   "source": []
  },
  {
   "cell_type": "markdown",
   "metadata": {},
   "source": [
    "# Mandelbrotmenge\n",
    "\n",
    "Aehnlich zur Julia-Menge wird die Mandelbrotmenge berechnet. Dabei haben die Variablen der Formel jedoch eine andere Bedeutung:\n",
    "Z0 beginnt bei jeder komplexen Zahl mit 0.\n",
    "c ist eine Zahl auf der komplexen Ebene. <br />\n",
    "z ist das Ergebnis der letzten rekursion auf dieser komplexen Zahl. <br />\n",
    "n ist die Genauigkeit.\n",
    "\n",
    "Die Mandelbrotmenge ist der Bereich, bei welchem Z nach n iterationen nicht den Radius g ueberschreitet und somit zu 0 konvergiert."
   ]
  },
  {
   "cell_type": "code",
   "execution_count": null,
   "metadata": {},
   "outputs": [],
   "source": []
  },
  {
   "cell_type": "markdown",
   "metadata": {},
   "source": [
    "# Apfelmännchen und Selbstähnlichkeit\n",
    "\n",
    "Apfelmaenchen ist eine visuelle Darstellung der Mandelbrotmenge, wobei die X Achse auf dem Koordinatensystem der reele und die Y Achse der imaginaere Teil der Komplexen Zahl ist.\n",
    "\n",
    "Zeichnen:\n",
    "Um die Menge zu zeichnen muss man ueber jeden Pixel iterieren und auf diesen die gegebene Formel n mal anwenden. Falls der Wert ueber den Radius g (Bei der klassischen Mandelbrotmenge 2) schreitet, wird anhand der benoetigten Iterationen die Farbe festgestellt. Wenn dieser Schwellwert nach n iterationen nicht ueberschritten wird, wird das Pixel schwarz gefaerbt.\n",
    "\n",
    "Mit anpassen der Formel, beispielsweise zu Z^3 + c, ergeben sich andere Fraktale mit eigenen Eigenschaften."
   ]
  },
  {
   "cell_type": "code",
   "execution_count": null,
   "metadata": {},
   "outputs": [],
   "source": []
  },
  {
   "cell_type": "markdown",
   "metadata": {},
   "source": [
    "# Quellen:\n",
    "\n",
    "The dark side of the Mandelbrot set / Mathologer: <br />\n",
    "https://www.youtube.com/watch?v=9gk_8mQuerg\n",
    "\n",
    "Die Mandelbrotmenge / Uni-Leipzig: <br />\n",
    "https://www.informatik.uni-leipzig.de/~meiler/Schuelerseiten.dir/DPlotzki/html/mndlbrt.htm"
   ]
  }
 ],
 "metadata": {
  "kernelspec": {
   "display_name": "SageMath 9.0",
   "language": "sage",
   "name": "sagemath"
  },
  "language_info": {
   "codemirror_mode": {
    "name": "ipython",
    "version": 3
   },
   "file_extension": ".py",
   "mimetype": "text/x-python",
   "name": "python",
   "nbconvert_exporter": "python",
   "pygments_lexer": "ipython3",
   "version": "3.7.3"
  }
 },
 "nbformat": 4,
 "nbformat_minor": 2
}
