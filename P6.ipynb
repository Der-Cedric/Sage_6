{
 "cells": [
  {
   "cell_type": "code",
   "execution_count": 39,
   "metadata": {
    "scrolled": true
   },
   "outputs": [
    {
     "data": {
      "text/html": [
       "<style>.container { width:100% !important; }</style>"
      ],
      "text/plain": [
       "<IPython.core.display.HTML object>"
      ]
     },
     "metadata": {},
     "output_type": "display_data"
    }
   ],
   "source": [
    "# expand the cell width to 100% of the content\n",
    "from IPython.core.display import display, HTML\n",
    "display(HTML(\"<style>.container { width:100% !important; }</style>\"))"
   ]
  },
  {
   "cell_type": "markdown",
   "metadata": {},
   "source": [
    "# Logistische Gleichung\n",
    "\n",
    "Die logistische Gleichung ist eine relativ einfache, nichtlineare Gleichung, die sich im Gegensatz zu den uns bisher bekannten linearen Gleichungssystemen für bestimmte Parameter scheinbar unvorhersehbar und chaotisch verhält.  \n",
    "Sie ist rekursiv definiert durch die folgende Gleichung:  \n",
    "<p style=\"text-align: center; font-size: 20px;\">\n",
    "<b> x<sub>n+1</sub> = r * x<sub>n</sub> * (1 - x<sub>n</sub>) </b> </p>  \n",
    "    \n",
    "## Populationsmodellierung durch exponentielles Wachstum\n",
    "Die logistische Gleichung wurde von Pierre-François Verhulst, einem belgischen Mathematiker, in seiner 1845 erschienenen Arbeit \"...\" zur Modellierung von Populationen entwickelt.  \n",
    "Ein Ansatz dazu ist, die Population durch eine exponentiell wachsende Funktion x<sub>n+1</sub> = r * x<sub>n</sub> zu modellieren.  \n",
    "x<sub>n</sub> ist dabei die Größe der Population zum Zeitpunkt n, r eine Spezies-spezifische Wachstumsrate (i.d.R. > 1, sonst wäre die Spezies schon ausgestorben).  \n",
    "\n",
    "Dies lässt sich zu Beginn so auch in der Realität beobachten, beispielsweise bei der Vermehrung von Zellen oder dem Wachstum von Pilzen.  \n",
    "Auch für Tiere und Menschen scheint dies intuitiv: Je dichter ein gegebener Lebensraum mit einer Spezies besiedelt ist, desto höher ist auch die Wahrscheinlichkeit, dass sich zwei paarungswillige und -fähige Individuen treffen und sich vermehren.  \n",
    "\n",
    "Allerdings ist auch offensichtlich, dass diese Modellierung nicht die gesamte Entwicklung beschreiben kann:  \n",
    "Die Funktion wächst exponentiell und wird somit irgendwann sehr schnell unendlich groß, wohingegen die Population einer Spezies in der Realität begrenzt ist. Irgendwann reichen beispielsweise die vorhandenen Ressourcen im Lebensraum (Platz, Nahrung) nicht mehr für alle aus, wodurch die Sterblichkeit steigt und so die effektive Wachstumsrate (Geburtenrate - Sterberate) abfällt. Die Population wächst dann langsamer oder schrumpft sogar. Diese äußeren Einflüsse fasst man in der <i> Kapazität K</i> eines Lebensraums zusammen. Sie beschreibt die Größe einer Population, bei der ihre Wachstumsrate 0 beträgt. Sie ist dann stabil, das heißt es sterben genau so viele Individuen wie geboren werden.\n",
    "\n",
    "## Ergänzung durch wachstumshemmende Terme\n",
    "Verhulst erkannte dieses Problem und löste es, indem er neben dem wachstumstreibenden Term x<sub>n</sub> noch einen wachstumshemmenden in die Gleichung einbaute.  \n",
    "Beschreibt die Kapazität K wie oben definiert die maximale Individuenanzahl, so muss die Population umso langsamer wachsen, je näher sich ihre Größe schon an die Kapazität angenähert hat.  \n",
    "Dies erreicht man zum Beispiel durch das Hinzufügen des Faktors (K - x<sub>n</sub>) ⇔ (1 - x<sub>n</sub> / K). Dadurch entsteht die logistische Gleichung x<sub>n+1</sub> = r * x<sub>n</sub> * (1 - x<sub>n</sub> / K).  \n",
    "Häufig wird das K einfach weggelassen bzw. mit 1 gleichgesetzt, wodurch x die Populationsgröße nicht mehr absolut, sondern relativ zur Kapazität beschreibt.  \n",
    "Auch die nachfolgende Simulation betrachtet die Gleichung wie zu Beginn notiert ohne Betrachtung einer spezifischen Kapazität.\n",
    "In ihr erkennt man gut, dass sich die Populationsgröße für 1 < r < 3 irgendwann stabilisiert.  \n",
    "Für r = 1 ∨ r > 3 schwingt die Gleichung jedoch oder wird sogar - wie eingangs erwähnt - scheinbar unvorhersehbar chaotisch.\n"
   ]
  },
  {
   "cell_type": "code",
   "execution_count": 51,
   "metadata": {
    "scrolled": false
   },
   "outputs": [
    {
     "data": {
      "application/vnd.jupyter.widget-view+json": {
       "model_id": "cc56101c3f6c412ab61c0928886518e8",
       "version_major": 2,
       "version_minor": 0
      },
      "text/plain": [
       "Interactive function <function plot_le at 0x7fe6dab0dd90> with 3 widgets\n",
       "  x0: TransformFloatSlider(value=0.5,…"
      ]
     },
     "metadata": {},
     "output_type": "display_data"
    }
   ],
   "source": [
    "class log_equation:\n",
    "    def __init__(self, r):\n",
    "        self.r = r\n",
    "    \n",
    "    def f(self, x):\n",
    "        return self.r * x * (1 - x)\n",
    "\n",
    "@interact\n",
    "def plot_le(x0 = slider(0, 1, default=0.5, step_size=0.1, label=\"Startwert x<sub>0</sub>\"), \n",
    "            r  = slider(0, 4, default=3.8, step_size=0.1, label=\"Wachstum r\"),\n",
    "            darstellung = selector(['Punkte', 'Kurve'], label=\"Darstellung\", default='Kurve')):\n",
    "    le = log_equation(r)\n",
    "    x = x0\n",
    "    p = [(0, x)]\n",
    "    for i in range(1, 100):\n",
    "        x = le.f(x)\n",
    "        p += [(i, x)]\n",
    "    show(line(p) if darstellung == 'Kurve' else points(p), figsize=8, ymin=0, ymax=1)\n",
    "    \n"
   ]
  },
  {
   "cell_type": "markdown",
   "metadata": {},
   "source": [
    "# Feigenbaum Diagramm\n",
    "\n",
    "\n"
   ]
  },
  {
   "cell_type": "code",
   "execution_count": null,
   "metadata": {
    "collapsed": true,
    "scrolled": true
   },
   "outputs": [],
   "source": []
  },
  {
   "cell_type": "markdown",
   "metadata": {},
   "source": [
    "# Sensitivität\n",
    "\n",
    "\n"
   ]
  },
  {
   "cell_type": "code",
   "execution_count": null,
   "metadata": {
    "collapsed": true,
    "scrolled": true
   },
   "outputs": [],
   "source": []
  },
  {
   "cell_type": "markdown",
   "metadata": {},
   "source": [
    "# Julia-Mengen\n",
    "\n",
    "\n"
   ]
  },
  {
   "cell_type": "code",
   "execution_count": null,
   "metadata": {
    "collapsed": true,
    "scrolled": true
   },
   "outputs": [],
   "source": []
  },
  {
   "cell_type": "markdown",
   "metadata": {},
   "source": [
    "# Mandelbrotmenge\n",
    "\n",
    "\n"
   ]
  },
  {
   "cell_type": "code",
   "execution_count": null,
   "metadata": {
    "collapsed": true,
    "scrolled": true
   },
   "outputs": [],
   "source": []
  },
  {
   "cell_type": "markdown",
   "metadata": {},
   "source": [
    "# Apfelmännchen und Selbstähnlichkeit\n",
    "\n",
    "\n"
   ]
  },
  {
   "cell_type": "code",
   "execution_count": null,
   "metadata": {
    "collapsed": true,
    "scrolled": true
   },
   "outputs": [],
   "source": []
  },
  {
   "cell_type": "markdown",
   "metadata": {},
   "source": [
    "# Quellen\n",
    "Logistische Gleichung:\n",
    "\n",
    "- Die logistische Gleichung - ein Weg ins Chaos (Andreas Schmid, 2009, http://www.fraktalwelt.de/systeme/as_weg_ins_chaos.pdf)\n",
    "- Modellierung natürlicher Prozesse und Optimierungsstrategien (Jens Kortus, Theoretische Physik TU Freiberg (https://tu-freiberg.de/sites/default/files/media/institut-fuer-theoretische-physik-10451/Lehre/Modelierung/modnatproz.pdf)\n",
    "- Populationsmodelle (Philipp Jansche, 2008/09, https://www.mathi.uni-heidelberg.de/~thaeter/mathmod08/AusarbeitungPopulationsmodelle.pdf)\n",
    "- Die logistische Gleichung als ein Beispiel für chaotische Prozesse in der Physik (Nils Grzech, 2012, https://docplayer.org/18693722-Die-logistische-gleichung-als-ein-beispiel-fuer-chaotische-prozesse-in-der-physik.html)"
   ]
  },
  {
   "cell_type": "code",
   "execution_count": null,
   "metadata": {},
   "outputs": [],
   "source": []
  }
 ],
 "metadata": {
  "kernelspec": {
   "display_name": "SageMath 9.0",
   "language": "sage",
   "name": "sagemath"
  },
  "language_info": {
   "codemirror_mode": {
    "name": "ipython",
    "version": 3
   },
   "file_extension": ".py",
   "mimetype": "text/x-python",
   "name": "python",
   "nbconvert_exporter": "python",
   "pygments_lexer": "ipython3",
   "version": "3.7.3"
  }
 },
 "nbformat": 4,
 "nbformat_minor": 2
}
