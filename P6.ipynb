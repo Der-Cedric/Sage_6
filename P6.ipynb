{
 "cells": [
  {
   "cell_type": "code",
   "execution_count": 1,
   "metadata": {
    "scrolled": true
   },
   "outputs": [
    {
     "data": {
      "text/html": [
       "<style>.container { width:100% !important; }</style>"
      ],
      "text/plain": [
       "<IPython.core.display.HTML object>"
      ]
     },
     "metadata": {},
     "output_type": "display_data"
    }
   ],
   "source": [
    "# expand the cell width to 100% of the content\n",
    "from IPython.core.display import display, HTML\n",
    "display(HTML(\"<style>.container { width:100% !important; }</style>\"))"
   ]
  },
  {
   "cell_type": "markdown",
   "metadata": {},
   "source": [
    "# Logistische Gleichung\n",
    "\n",
    "Die logistische Gleichung ist eine relativ einfache, nichtlineare Gleichung, die sich im Gegensatz zu den uns bisher bekannten linearen Gleichungssystemen für bestimmte Parameter scheinbar unvorhersehbar und chaotisch verhält.  \n",
    "Sie ist rekursiv definiert durch die folgende Gleichung:  \n",
    "<p style=\"text-align: center; font-size: 20px;\">\n",
    "<b> x<sub>n+1</sub> = r * x<sub>n</sub> * (1 - x<sub>n</sub>) </b> </p>  \n",
    "    \n",
    "## Populationsmodellierung durch exponentielles Wachstum\n",
    "Die logistische Gleichung wurde von Pierre-François Verhulst, einem belgischen Mathematiker, in seiner 1845 erschienenen Arbeit \"...\" zur Modellierung von Populationen entwickelt.  \n",
    "Ein Ansatz dazu ist, die Population durch eine exponentiell wachsende Funktion x<sub>n+1</sub> = r * x<sub>n</sub> zu modellieren.  \n",
    "x<sub>n</sub> ist dabei die Größe der Population zum Zeitpunkt n, r eine Spezies-spezifische Wachstumsrate (i.d.R. > 1, sonst wäre die Spezies schon ausgestorben).  \n",
    "\n",
    "Dies lässt sich zu Beginn so auch in der Realität beobachten, beispielsweise bei der Vermehrung von Zellen oder dem Wachstum von Pilzen.  \n",
    "Auch für Tiere und Menschen scheint dies intuitiv: Je dichter ein gegebener Lebensraum mit einer Spezies besiedelt ist, desto höher ist auch die Wahrscheinlichkeit, dass sich zwei paarungswillige und -fähige Individuen treffen und sich vermehren.  \n",
    "\n",
    "Allerdings ist auch offensichtlich, dass diese Modellierung nicht die gesamte Entwicklung beschreiben kann:  \n",
    "Die Funktion wächst exponentiell und wird somit irgendwann sehr schnell unendlich groß, wohingegen die Population einer Spezies in der Realität begrenzt ist. Irgendwann reichen beispielsweise die vorhandenen Ressourcen im Lebensraum (Platz, Nahrung) nicht mehr für alle aus, wodurch die Sterblichkeit steigt und so die effektive Wachstumsrate (Geburtenrate - Sterberate) abfällt. Die Population wächst dann langsamer oder schrumpft sogar. Diese äußeren Einflüsse fasst man in der <i> Kapazität K</i> eines Lebensraums zusammen. Sie beschreibt die Größe einer Population, bei der ihre Wachstumsrate 0 beträgt. Sie ist dann stabil, das heißt es sterben genau so viele Individuen wie geboren werden.\n",
    "\n",
    "## Ergänzung durch wachstumshemmende Terme\n",
    "Verhulst erkannte dieses Problem und löste es, indem er neben dem wachstumstreibenden Term x<sub>n</sub> noch einen wachstumshemmenden in die Gleichung einbaute.  \n",
    "Beschreibt die Kapazität K wie oben definiert die maximale Individuenanzahl, so muss die Population umso langsamer wachsen, je näher sich ihre Größe schon an die Kapazität angenähert hat.  \n",
    "Dies erreicht man zum Beispiel durch das Hinzufügen des Faktors (K - x<sub>n</sub>) ⇔ (1 - x<sub>n</sub> / K). Dadurch entsteht die logistische Gleichung x<sub>n+1</sub> = r * x<sub>n</sub> * (1 - x<sub>n</sub> / K).  \n",
    "Häufig wird das K einfach weggelassen bzw. mit 1 gleichgesetzt, wodurch x die Populationsgröße nicht mehr absolut, sondern relativ zur Kapazität beschreibt.  \n",
    "Auch die nachfolgende Simulation betrachtet die Gleichung wie zu Beginn notiert ohne Betrachtung einer spezifischen Kapazität.\n",
    "In ihr erkennt man gut, dass sich die Populationsgröße für 1 < r < 3 irgendwann stabilisiert.  \n",
    "Für r = 1 ∨ r > 3 schwingt die Gleichung jedoch oder wird sogar - wie eingangs erwähnt - scheinbar unvorhersehbar chaotisch.\n"
   ]
  },
  {
   "cell_type": "code",
   "execution_count": 14,
   "metadata": {
    "scrolled": false
   },
   "outputs": [
    {
     "data": {
      "application/vnd.jupyter.widget-view+json": {
       "model_id": "991e075fc4bb44b0bf3ebd2317c9fb6c",
       "version_major": 2,
       "version_minor": 0
      },
      "text/plain": [
       "SW50ZXJhY3RpdmUgZnVuY3Rpb24gPGZ1bmN0aW9uIHBsb3RfbGUgYXQgMHg2ZmZiYzhiZWUxNDA+IHdpdGggMyB3aWRnZXRzCiAgeDA6IFRyYW5zZm9ybUZsb2F0U2xpZGVyKHZhbHVlPTAuNSzigKY=\n"
      ]
     },
     "metadata": {},
     "output_type": "display_data"
    }
   ],
   "source": [
    "class log_equation:\n",
    "    def __init__(self, r):\n",
    "        self.r = r\n",
    "    \n",
    "    def f(self, x):\n",
    "        return self.r * x * (1 - x)\n",
    "\n",
    "@interact\n",
    "def plot_le(x0 = slider(0, 1, default=0.5, step_size=0.1, label=\"Startwert x<sub>0</sub>\"), \n",
    "            r  = slider(0, 4, default=3.8, step_size=0.1, label=\"Wachstum r\"),\n",
    "            darstellung = selector(['Punkte', 'Kurve'], label=\"Darstellung\", default='Kurve')):\n",
    "    le = log_equation(r)\n",
    "    x = x0\n",
    "    p = [(0, x)]\n",
    "    for i in range(1, 100):\n",
    "        x = le.f(x)\n",
    "        p += [(i, x)]\n",
    "    show(line(p) if darstellung == 'Kurve' else points(p), figsize=8, ymin=0, ymax=1)\n",
    "    \n"
   ]
  },
  {
   "cell_type": "markdown",
   "metadata": {},
   "source": [
    "# Feigenbaum Diagramm\n",
    "\n",
    "\n",
    "# ToDo: - Feigenbaum-Konstante-Erklärung - Feigenbaum Aduktoren"
   ]
  },
  {
   "cell_type": "markdown",
   "metadata": {},
   "source": [
    "Das Feigenbaumdiagramm ist ein nach dem US-amerikanischen Physiker Mitchell Feigenbaum benanntes Diagramm, welches nichtlineare Systeme, wie z.B. die eben beschriebene logistische Gleichung, visualisiert.\n",
    "\n",
    "Im Folgenden sieht man eine Implementierung für das Feigenbaumdiagramm der logistischen Gleichung. <br>\n",
    "Zur Berechnung werden die spezifizierte Nummer an Punkten mit zufälligen x- und r-Werten im Gesammten Bereich generiert. Danach wird die logistische Gleichung N-mal auf jeden Punkt andewandt und die Punkte anschließend in der Form (r,x<sub>N</sub>) geplottet. <br>\n",
    "Über die Regler lassen sich einige Werte, wie die Anzahl der Punkte, Iterationen pro Punkt oder der betrachtete R-Bereich individuell einstellen.<br>\n",
    "Den R<sub>Min</sub>-Wert größer als R<sub>Max</sub> zu wählen ist logisch unsinnig und erzeugt demnach kein Diagramm.\n",
    "\n",
    "Um kleinere Änderungen Vorzunehmen können sie einen Schieber eines Reglers selektieren und mit den Pfeiltasten anpassen.\n",
    "<br>Um größere Änderungen Vorzunehmen klicken sie bitte auf den Regler an der gewünschten Stelle, anstatt den Schieber zu verschieben.\n",
    "<br>Bei einer hohen Zahl an Punkten oder Iterationen kann es etwas dauern, bis das eingestellte Diagramm erstellt wurde."
   ]
  },
  {
   "cell_type": "code",
   "execution_count": 15,
   "metadata": {
    "scrolled": false
   },
   "outputs": [
    {
     "data": {
      "application/vnd.jupyter.widget-view+json": {
       "model_id": "f7f0ebbfca8d4cf5a06095cee89259a4",
       "version_major": 2,
       "version_minor": 0
      },
      "text/plain": [
       "TWFudWFsIGludGVyYWN0aXZlIGZ1bmN0aW9uIDxmdW5jdGlvbiBwbG90X2ZpZyBhdCAweDZmZmJkNDVhZTFiOD4gd2l0aCA1IHdpZGdldHMKICBOdW1Qb2ludHM6IFRyYW5zZm9ybUludFNsaWTigKY=\n"
      ]
     },
     "metadata": {},
     "output_type": "display_data"
    }
   ],
   "source": [
    "@interact\n",
    "def plot_fig(NumPoints = slider(1, 100000, default=500, step_size=1, label=\"Num<sub>Points</sub>\"),\n",
    "             N = slider(0, 100, default=5, step_size=1, label=\"N<sub>Iterations</sub>\"),\n",
    "             rMax = slider(1.05, 4, default=4, step_size=0.1, label=\"R<sub>Max</sub>\"),\n",
    "             rMin = slider(0.00, 4, default=1, step_size=0.1, label=\"R<sub>Min</sub>\"),\n",
    "             dotSize = slider(1, 50, default=1, step_size=1, label=\"Size<sub>Dot</sub>\"),\n",
    "             auto_update = false):\n",
    "    \n",
    "    p = []\n",
    "    for i in range(0, NumPoints):\n",
    "        p += [(random()*rMax,random())]\n",
    "    #p = list(filter(lambda x: x[0] > rMin, p))\n",
    "    for i in range(len(p)):\n",
    "        for n in range(N):\n",
    "            #Aus performance-technischen Gründen wird hier direkt die Formel und nicht die Funktion von oben benutzt\n",
    "            # Punkt = (r, xN)\n",
    "            p[i] = (p[i][0], p[i][0] * p[i][1] * (1 - p[i][1]))\n",
    "            \n",
    "    #print(len(ps))\n",
    "    show(points(p, size=dotSize), figsize=8, ymin=0, ymax=1, xmin=0, xmax=rMax)"
   ]
  },
  {
   "cell_type": "markdown",
   "metadata": {},
   "source": [
    "# Sensitivität\n",
    "\n",
    "\n"
   ]
  },
  {
   "cell_type": "markdown",
   "metadata": {},
   "source": [
    "Die Sensitivität eines Systems ist grundlegend die Abhägigkeit dessen von seinen Anfangsparametern. Bei sensitiven Systemen genügen sehr kleine Abweichungen von diesem Anfangszustand um völlig unterschiedliche Verläufe auszulösen.\n",
    "\n",
    "Ist möglich Regeln zu definieren um den Verlauf zu beschreiben, so spricht man von deterministischem Chaos. Auch bei chaotisch anmutenden Begebenheiten liegen dem deterministischen Chaos immer Regeln zugrunde, mit denen sich das sensitive System beschreiben und voraussagen ließe, würde man es komplett überblicken.\n",
    "\n",
    "Im Gegenzug dazu gibt es noch vorgänge, welche sich nicht klar durch Regeln beschreiben lassen. Im Fall von quantenmechanischen Prozessen können keine Regelun gefunden werden, da nach heutigem Stand der Wissenschaft quanten sich echt unvorhersehbar verhalten. Wenn ein System nun auf diese quantenmechanischen Prozesse hin sensitiv ist, so lässt sich dessen Verlauf in keinem Fall vorhersagen.\n",
    "\n",
    "Die bereits beschriebene Logistische Gleichung ist ein Beispiel für eine anfangsbedingungs-sensitive Gleichung.\n",
    "\n",
    "## Schmetterlingseffekt\n",
    "\n",
    "Der Schmetterlingseffekt ist wohl der bekanntesten Effekte dem die Sensitivität der Anfangsbedingungen zu Grunde liegt. \n",
    "Der Metereologe Edward Norton Lorenz entdeckte das Phänomen 1961, als er Berechnungen zu einem Wettermodell durchführte. Hierbei setzte er verschiedene Wetterparameter un Verbindung und ließ sein Modell mehrere Male berechnen, wobei er jedoch völlig unterschiedliche Ergebnisse erhielt. Dies geschah, weil er bei der erneuten Berechnung Zwischenergebnisse der Ersten verwendete, welche gerundet und weniger genau waren. \n",
    "\n"
   ]
  },
  {
   "cell_type": "code",
   "execution_count": null,
   "metadata": {
    "scrolled": true
   },
   "outputs": [],
   "source": []
  },
  {
   "cell_type": "markdown",
   "metadata": {},
   "source": [
    "# Julia-Mengen\n",
    "\n",
    "Klassische Formel: <br />\n",
    "    Zn+1 = Zn^2 + c <br />\n",
    "c ist eine komplexe konstante. <br />\n",
    "z ist eine Zahl auf der komplexen Ebene. <br />\n",
    "n ist die Genauigkeit.\n",
    "\n",
    "Zu jedem Punkt einer Mandelbrotmenge gibt es eine zugehoerige Julia-Menge, wobei dieser eben die Konstante C ist."
   ]
  },
  {
   "cell_type": "code",
   "execution_count": null,
   "metadata": {
    "scrolled": true
   },
   "outputs": [],
   "source": []
  },
  {
   "cell_type": "markdown",
   "metadata": {},
   "source": [
    "# Mandelbrotmenge\n",
    "\n",
    "Aehnlich zur Julia-Menge wird die Mandelbrotmenge berechnet. Dabei haben die Variablen der Formel jedoch eine andere Bedeutung:\n",
    "Z0 beginnt bei jeder komplexen Zahl mit 0.\n",
    "c ist eine Zahl auf der komplexen Ebene. <br />\n",
    "z ist das Ergebnis der letzten rekursion auf dieser komplexen Zahl. <br />\n",
    "n ist die Genauigkeit.\n",
    "\n",
    "Die Mandelbrotmenge ist der Bereich, bei welchem Z nach n iterationen nicht den Radius g ueberschreitet und somit zu 0 konvergiert."
   ]
  },
  {
   "cell_type": "code",
   "execution_count": null,
   "metadata": {
    "scrolled": true
   },
   "outputs": [],
   "source": []
  },
  {
   "cell_type": "markdown",
   "metadata": {},
   "source": [
    "# Apfelmännchen und Selbstähnlichkeit\n",
    "\n",
    "Apfelmaenchen ist eine visuelle Darstellung der Mandelbrotmenge, wobei die X Achse auf dem Koordinatensystem der reele und die Y Achse der imaginaere Teil der Komplexen Zahl ist.\n",
    "\n",
    "Zeichnen:\n",
    "Um die Menge zu zeichnen muss man ueber jeden Pixel iterieren und auf diesen die gegebene Formel n mal anwenden. Falls der Wert ueber den Radius g (Bei der klassischen Mandelbrotmenge 2) schreitet, wird anhand der benoetigten Iterationen die Farbe festgestellt. Wenn dieser Schwellwert nach n iterationen nicht ueberschritten wird, wird das Pixel schwarz gefaerbt.\n",
    "\n",
    "Mit anpassen der Formel, beispielsweise zu Z^3 + c, ergeben sich andere Fraktale mit eigenen Eigenschaften."
   ]
  },
  {
   "cell_type": "code",
   "execution_count": null,
   "metadata": {
    "scrolled": true
   },
   "outputs": [],
   "source": []
  },
  {
   "cell_type": "markdown",
   "metadata": {},
   "source": [
    "# Quellen\n",
    "Logistische Gleichung:\n",
    "\n",
    "- Die logistische Gleichung - ein Weg ins Chaos (Andreas Schmid, 2009, http://www.fraktalwelt.de/systeme/as_weg_ins_chaos.pdf)\n",
    "- Modellierung natürlicher Prozesse und Optimierungsstrategien (Jens Kortus, Theoretische Physik TU Freiberg (https://tu-freiberg.de/sites/default/files/media/institut-fuer-theoretische-physik-10451/Lehre/Modelierung/modnatproz.pdf)\n",
    "- Populationsmodelle (Philipp Jansche, 2008/09, https://www.mathi.uni-heidelberg.de/~thaeter/mathmod08/AusarbeitungPopulationsmodelle.pdf)\n",
    "- Die logistische Gleichung als ein Beispiel für chaotische Prozesse in der Physik (Nils Grzech, 2012, https://docplayer.org/18693722-Die-logistische-gleichung-als-ein-beispiel-fuer-chaotische-prozesse-in-der-physik.html)\n",
    "\n",
    "Feigenbaum-Diagramm:\n",
    "\n",
    "- Feigenbaum-Konstante https://physik.cosmos-indirekt.de/Physik-Schule/Feigenbaum-Konstante\n",
    "- Diagramm erzeugen http://walter.bislins.ch/blog/index.asp?page=Feigenbaum%2DDiagramm+erzeugen+und+analysieren\n",
    "\n",
    "Sensitivität:\n",
    "\n",
    "- Chaosforschung https://physik.cosmos-indirekt.de/Physik-Schule/Chaosforschung\n",
    "- Schmetterlingseffekt:\n",
    "    - https://www.br.de/wissen/edward-lorenz-meteorologe-schmetterlingseffekt-chaostheorie-100.html \n",
    "    - https://physik.cosmos-indirekt.de/Physik-Schule/Schmetterlingseffekt\n",
    "    \n",
    "The dark side of the Mandelbrot set / Mathologer: <br />\n",
    "https://www.youtube.com/watch?v=9gk_8mQuerg\n",
    "\n",
    "Die Mandelbrotmenge / Uni-Leipzig: <br />\n",
    "https://www.informatik.uni-leipzig.de/~meiler/Schuelerseiten.dir/DPlotzki/html/mndlbrt.htm"
   ]
  },
  {
   "cell_type": "code",
   "execution_count": null,
   "metadata": {
    "scrolled": false
   },
   "outputs": [],
   "source": []
  }
 ],
 "metadata": {
  "kernelspec": {
   "display_name": "SageMath 9.0",
   "language": "sage",
   "name": "sagemath"
  },
  "language_info": {
   "codemirror_mode": {
    "name": "ipython",
    "version": 2
   },
   "file_extension": ".py",
   "mimetype": "text/x-python",
   "name": "python",
   "nbconvert_exporter": "python",
   "pygments_lexer": "ipython2",
   "version": "2.7.15"
  }
 },
 "nbformat": 4,
 "nbformat_minor": 2
}
